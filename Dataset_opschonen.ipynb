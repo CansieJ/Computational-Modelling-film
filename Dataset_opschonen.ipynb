{
 "cells": [
  {
   "cell_type": "markdown",
   "id": "a9d278af-8d6c-4dfc-af5c-506d7bc8d174",
   "metadata": {},
   "source": [
    "# Dataset opschonen\n",
    "Hier kijk ik naar de data en schoon ik deze op. Dit gedeelte moet eerst gerund worden als u de notebooks wilt uitvoeren.\n",
    "\n",
    "Als we kijken naar de twee onderzoeksvragen die ik behandel, dan zijn dat:\n",
    "\n",
    "1. In hoeverre is de omzet van een film te voorspellen op basis van de populariteit op Facebook en IMDb?\n",
    "\n",
    "2. In hoeverre is het mogelijk om logische clusters te vinden op basis van onder andere budget en omzet?\n",
    "\n",
    "\n",
    "\n",
    "| Feature                     | Beschrijving                           | Type     |\n",
    "| --------------------------- | -------------------------------------- | -------- |\n",
    "| `director_facebook_likes`   | Aantal Facebook-likes van de regisseur | numeriek |\n",
    "| `actor_1_facebook_likes`    | Likes hoofdrolspeler 1                 | numeriek |\n",
    "| `actor_2_facebook_likes`    | Likes hoofdrolspeler 2                 | numeriek |\n",
    "| `actor_3_facebook_likes`    | Likes hoofdrolspeler 3                 | numeriek |\n",
    "| `cast_total_facebook_likes` | Totale likes van de cast               | numeriek |\n",
    "| `movie_facebook_likes`      | Likes van de film zelf                 | numeriek |\n",
    "| `imdb_score`                | IMDB-score                             | numeriek |\n",
    "| `num_voted_users`           | Aantal IMDB-stemmers                   | numeriek |\n",
    "| `budget`                    | Budget van de film (controlevariabele) | numeriek |\n",
    "| `gross`                     | **Targetvariabele** – omzet  | numeriek |\n",
    "We kijken vooral naar deze variabelen vanwege onderzoeksvraag 1, waarin we willen bepalen in hoeverre online populariteit (zoals Facebook-likes en IMDb-scores) helpt bij het voorspellen van hoeveel een film gaat verdienen.\n",
    "\n",
    "Hieronder beschrijf ik vervolgens welke kolommen en rijen ik verwijder, en waarom ik dat doe."
   ]
  },
  {
   "cell_type": "code",
   "execution_count": 7,
   "id": "a189d134-9b2f-4218-aa31-321f1d865548",
   "metadata": {},
   "outputs": [
    {
     "name": "stdout",
     "output_type": "stream",
     "text": [
      "Opschonen voltooid: nieuwe file 'movie-1-cleaned.csv' aangemaakt!\n",
      "Aantal rijen in de dataset: 3880\n"
     ]
    }
   ],
   "source": [
    "import pandas as pd\n",
    "import numpy as np\n",
    "\n",
    "bestand = \"dataset/movie-1.csv\"\n",
    "df = pd.read_csv(bestand, encoding='utf-8')\n",
    "\n",
    "df = df.dropna(subset=['budget', 'gross'])\n",
    "\n",
    "df = df.dropna(subset=['actor_1_facebook_likes', \n",
    "                       'actor_2_facebook_likes', \n",
    "                       'actor_3_facebook_likes'])\n",
    "\n",
    "df = df.dropna(subset=['num_critic_for_reviews'])\n",
    "\n",
    "# Categorische kolommen\n",
    "categorical_cols = ['director_name', 'actor_1_name', 'actor_2_name', 'actor_3_name',\n",
    "                    'plot_keywords', 'language', 'country', 'content_rating', 'genres', 'movie_title']\n",
    "for col in categorical_cols:\n",
    "    if col in df.columns:\n",
    "        df[col] = df[col].fillna('Unknown')\n",
    "\n",
    "\n",
    "df = df.drop(columns=['color', 'movie_imdb_link', 'aspect_ratio'], errors='ignore')\n",
    "\n",
    "pd.set_option('display.max_columns', None)\n",
    "pd.set_option('display.max_rows', 10)\n",
    "pd.set_option('display.width', 2000)\n",
    "pd.set_option('display.max_colwidth', None)\n",
    "\n",
    "output_bestand = \"dataset/movie-1-cleaned.csv\"\n",
    "df.to_csv(output_bestand, index=False, encoding='utf-8')\n",
    "\n",
    "\n",
    "print(\"Opschonen voltooid: nieuwe file 'movie-1-cleaned.csv' aangemaakt!\")\n",
    "print(\"Aantal rijen in de dataset:\", len(df))\n"
   ]
  },
  {
   "cell_type": "markdown",
   "id": "7788a6e4-298c-4e95-b1da-c1ced313bf5f",
   "metadata": {},
   "source": [
    "Ik verwijder hier elke rij die gross of budget mist. Dit doe ik omdat bij beide vragen geld een belangrijke rol speelt. Dit zijn er best veel; we verwijderen hiermee ongeveer 1.200 rijen uit de dataset. Dit is helaas wel nodig, want we hebben de gross nodig om te kunnen controleren of het goed gaat, en het budget is natuurlijk al een goede indicatie van hoeveel geld een film kan opleveren.\n",
    "Ik kies er dus voor om elke rij die gross of budget mist te verwijderen, en niet om de mediaan te gebruiken. Dit doe ik omdat ik denk dat het onderzoek daardoor heel onnauwkeurig zou worden, vooral omdat het vaak de kleinere films zijn die deze twee waarden missen. Daarom verwijder ik liever deze rijen volledig.\n",
    "\n",
    "Met wat overblijft na het verwijderen van alle rijen zonder gross of budget valt het gelukkig mee hoeveel gegevens we nog missen. Hiermee bedoel ik dat we nu niet veel NaN’s overhouden. We missen alleen nog een paar waarden bij de Facebook-likes, die belangrijk zijn voor vraag 1. Dit zijn er maar tien, dus ik kies ervoor om deze ook te verwijderen, omdat deze rijen ook meteen alle likes van de drie acteurs missen.\n",
    "\n",
    "Hierna ontbreken er nog een paar gegevens, maar die zijn minder belangrijk voor mijn onderzoek. Daarom kies ik ervoor om bij de overige features de NaN-waarden te vervangen door 'Unknown'. Zo kan ik ze toch meenemen in de analyse en bekijken of ze misschien nog een nuttige correlatie hebben.\n",
    "\n",
    "Er zijn ook een paar features die niet goed passen bij het onderzoek en waarvan ik zeker weet dat ze geen groot verschil zullen maken. Deze kolommen verwijder ik daarom: color, movie_imdb_link en aspect_ratio. Deze zeggen namelijk niet veel — het gaat hier vooral om een link, of de film in kleur was, en de beeldverhouding.\n",
    "\n",
    "De rest van de kolommen laat ik erin, zodat ik ze kan gebruiken bij mijn onderzoeksvragen en bij het clusteren. Ik denk dat er met de overige kolommen namelijk nog interessante correlaties gevonden kunnen worden."
   ]
  },
  {
   "cell_type": "code",
   "execution_count": 8,
   "id": "0bf860ba-8f50-4f4f-bba8-82af8c0135df",
   "metadata": {},
   "outputs": [
    {
     "name": "stdout",
     "output_type": "stream",
     "text": [
      "Aantal waarden die op 'Unknown' zijn gezet per kolom:\n",
      "\n",
      "director_name: 0\n",
      "actor_1_name: 0\n",
      "actor_2_name: 0\n",
      "actor_3_name: 0\n",
      "plot_keywords: 29\n",
      "language: 4\n",
      "country: 0\n",
      "content_rating: 47\n",
      "genres: 0\n",
      "movie_title: 0\n"
     ]
    }
   ],
   "source": [
    "unknown_counts = {col: (df[col] == 'Unknown').sum() for col in categorical_cols}\n",
    "\n",
    "print(\"Aantal waarden die op 'Unknown' zijn gezet per kolom:\\n\")\n",
    "for col, count in unknown_counts.items():\n",
    "    print(f\"{col}: {count}\")"
   ]
  },
  {
   "cell_type": "code",
   "execution_count": null,
   "id": "dc1b0e40-3b1d-46d9-abc6-f17f2f542010",
   "metadata": {},
   "outputs": [],
   "source": []
  }
 ],
 "metadata": {
  "kernelspec": {
   "display_name": "Python 3 (ipykernel)",
   "language": "python",
   "name": "python3"
  },
  "language_info": {
   "codemirror_mode": {
    "name": "ipython",
    "version": 3
   },
   "file_extension": ".py",
   "mimetype": "text/x-python",
   "name": "python",
   "nbconvert_exporter": "python",
   "pygments_lexer": "ipython3",
   "version": "3.12.2"
  }
 },
 "nbformat": 4,
 "nbformat_minor": 5
}
