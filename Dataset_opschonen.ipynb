{
 "cells": [
  {
   "cell_type": "markdown",
   "id": "a9d278af-8d6c-4dfc-af5c-506d7bc8d174",
   "metadata": {},
   "source": [
    "# Dataset opschonen"
   ]
  },
  {
   "cell_type": "code",
   "execution_count": 44,
   "id": "a189d134-9b2f-4218-aa31-321f1d865548",
   "metadata": {},
   "outputs": [
    {
     "name": "stdout",
     "output_type": "stream",
     "text": [
      "\n",
      " Opschonen voltooid: nieuwe file 'movie-1-cleaned.csv' aangemaakt!\n"
     ]
    }
   ],
   "source": [
    "import pandas as pd\n",
    "import numpy as np\n",
    "\n",
    "# Bestand inlezen\n",
    "bestand = \"movie-1.csv\"\n",
    "df = pd.read_csv(bestand, encoding='utf-8')\n",
    "\n",
    "df = df.dropna(subset=['budget', 'gross'])\n",
    "\n",
    "df = df.dropna(subset=['actor_1_facebook_likes', \n",
    "                       'actor_2_facebook_likes', \n",
    "                       'actor_3_facebook_likes'])\n",
    "\n",
    "# Categorische kolommen\n",
    "categorical_cols = ['director_name', 'actor_1_name', 'actor_2_name', 'actor_3_name',\n",
    "                    'plot_keywords', 'language', 'country', 'content_rating', 'genres', 'movie_title']\n",
    "for col in categorical_cols:\n",
    "    if col in df.columns:\n",
    "        df[col] = df[col].fillna('Unknown')\n",
    "\n",
    "\n",
    "df = df.drop(columns=['color', 'movie_imdb_link', 'aspect_ratio'], errors='ignore')\n",
    "\n",
    "pd.set_option('display.max_columns', None)\n",
    "pd.set_option('display.max_rows', 10)\n",
    "pd.set_option('display.width', 2000)\n",
    "pd.set_option('display.max_colwidth', None)\n",
    "\n",
    "df.head()\n",
    "df.to_csv(\"movie-1-cleaned.csv\", index=False, encoding='utf-8')\n",
    "print(\"\\n Opschonen voltooid: nieuwe file 'movie-1-cleaned.csv' aangemaakt!\")"
   ]
  },
  {
   "cell_type": "markdown",
   "id": "7788a6e4-298c-4e95-b1da-c1ced313bf5f",
   "metadata": {},
   "source": [
    "Ik verwijder hier elke rij die gross of budget mist. Dit doe ik omdat bij beide vragen geld een belangrijke rol speelt. Dit zijn er best veel; we verwijderen hiermee 1.200 rijen van de dataset. Maar omdat dit voor beide vragen het belangrijkste punt is, denk ik dat het prima te doen is met de hoeveelheid die overblijft.\n",
    "\n",
    "Met wat overblijft na het verwijderen van alle rijen zonder gross of budget valt het wel mee hoeveel gegevens we nog missen. Ook verwijderen we de rijen die actor_1_facebook_likes, actor_2_facebook_likes en actor_3_facebook_likes missen. Dit doe ik omdat het maar 10 rijen waren en belangrijk is voor vraag 1.\n",
    "\n",
    "Hierna missen we nog een paar gegevens, maar die zijn niet belangrijk voor mijn onderzoek, dus verwijderen we niet meer rijen. Wel pas ik bij sommige kolommen de missende info van NaN naar Unknown aan. Voor netheid verwijderen we ook een paar kolommen: Color, movie_imdb_link en aspect_ratio. Deze verwijder ik omdat ze niets te maken hebben met de vragen en ik niet denk dat ik er nog belangrijke verbanden mee kan trekken."
   ]
  },
  {
   "cell_type": "code",
   "execution_count": 45,
   "id": "0bf860ba-8f50-4f4f-bba8-82af8c0135df",
   "metadata": {},
   "outputs": [
    {
     "name": "stdout",
     "output_type": "stream",
     "text": [
      "Aantal waarden die op 'Unknown' zijn gezet per kolom:\n",
      "\n",
      "director_name: 0\n",
      "actor_1_name: 0\n",
      "actor_2_name: 0\n",
      "actor_3_name: 0\n",
      "plot_keywords: 30\n",
      "language: 4\n",
      "country: 0\n",
      "content_rating: 47\n",
      "genres: 0\n",
      "movie_title: 0\n"
     ]
    }
   ],
   "source": [
    "unknown_counts = {col: (df[col] == 'Unknown').sum() for col in categorical_cols}\n",
    "\n",
    "# Print overzicht\n",
    "print(\"Aantal waarden die op 'Unknown' zijn gezet per kolom:\\n\")\n",
    "for col, count in unknown_counts.items():\n",
    "    print(f\"{col}: {count}\")"
   ]
  },
  {
   "cell_type": "code",
   "execution_count": null,
   "id": "dc1b0e40-3b1d-46d9-abc6-f17f2f542010",
   "metadata": {},
   "outputs": [],
   "source": []
  }
 ],
 "metadata": {
  "kernelspec": {
   "display_name": "Python 3 (ipykernel)",
   "language": "python",
   "name": "python3"
  },
  "language_info": {
   "codemirror_mode": {
    "name": "ipython",
    "version": 3
   },
   "file_extension": ".py",
   "mimetype": "text/x-python",
   "name": "python",
   "nbconvert_exporter": "python",
   "pygments_lexer": "ipython3",
   "version": "3.12.2"
  }
 },
 "nbformat": 4,
 "nbformat_minor": 5
}
